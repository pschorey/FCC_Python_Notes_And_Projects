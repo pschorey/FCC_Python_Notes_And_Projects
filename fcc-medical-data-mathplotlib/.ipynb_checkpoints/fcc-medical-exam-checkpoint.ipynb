{
 "cells": [
  {
   "cell_type": "code",
   "execution_count": 3,
   "metadata": {
    "collapsed": true
   },
   "outputs": [
    {
     "name": "stdout",
     "output_type": "stream",
     "text": [
      "Collecting matplotlib\n",
      "  Downloading matplotlib-3.2.2-cp38-cp38-macosx_10_9_x86_64.whl (12.5 MB)\n",
      "\u001b[K     |████████████████████████████████| 12.5 MB 1.5 MB/s eta 0:00:01\n",
      "\u001b[?25hRequirement already satisfied: python-dateutil>=2.1 in /Library/Frameworks/Python.framework/Versions/3.8/lib/python3.8/site-packages (from matplotlib) (2.8.1)\n",
      "Requirement already satisfied: pyparsing!=2.0.4,!=2.1.2,!=2.1.6,>=2.0.1 in /Library/Frameworks/Python.framework/Versions/3.8/lib/python3.8/site-packages (from matplotlib) (2.4.7)\n",
      "Requirement already satisfied: numpy>=1.11 in /Library/Frameworks/Python.framework/Versions/3.8/lib/python3.8/site-packages (from matplotlib) (1.19.0)\n",
      "Collecting kiwisolver>=1.0.1\n",
      "  Downloading kiwisolver-1.2.0-cp38-cp38-macosx_10_9_x86_64.whl (60 kB)\n",
      "\u001b[K     |████████████████████████████████| 60 kB 1.4 MB/s eta 0:00:01\n",
      "\u001b[?25hCollecting cycler>=0.10\n",
      "  Using cached cycler-0.10.0-py2.py3-none-any.whl (6.5 kB)\n",
      "Requirement already satisfied: six>=1.5 in /Library/Frameworks/Python.framework/Versions/3.8/lib/python3.8/site-packages (from python-dateutil>=2.1->matplotlib) (1.15.0)\n",
      "Installing collected packages: kiwisolver, cycler, matplotlib\n",
      "Successfully installed cycler-0.10.0 kiwisolver-1.2.0 matplotlib-3.2.2\n",
      "Note: you may need to restart the kernel to use updated packages.\n"
     ]
    }
   ],
   "source": [
    "pip install matplotlib"
   ]
  },
  {
   "cell_type": "code",
   "execution_count": 4,
   "metadata": {
    "collapsed": true
   },
   "outputs": [
    {
     "name": "stdout",
     "output_type": "stream",
     "text": [
      "Collecting seaborn\n",
      "  Downloading seaborn-0.10.1-py3-none-any.whl (215 kB)\n",
      "\u001b[K     |████████████████████████████████| 215 kB 89 kB/s eta 0:00:011\n",
      "\u001b[?25hRequirement already satisfied: matplotlib>=2.1.2 in /Library/Frameworks/Python.framework/Versions/3.8/lib/python3.8/site-packages (from seaborn) (3.2.2)\n",
      "Requirement already satisfied: numpy>=1.13.3 in /Library/Frameworks/Python.framework/Versions/3.8/lib/python3.8/site-packages (from seaborn) (1.19.0)\n",
      "Requirement already satisfied: pandas>=0.22.0 in /Library/Frameworks/Python.framework/Versions/3.8/lib/python3.8/site-packages (from seaborn) (1.0.5)\n",
      "Collecting scipy>=1.0.1\n",
      "  Downloading scipy-1.5.1-cp38-cp38-macosx_10_9_x86_64.whl (28.9 MB)\n",
      "\u001b[K     |████████████████████████████████| 28.9 MB 1.3 MB/s eta 0:00:01    |██▌                             | 2.2 MB 56 kB/s eta 0:07:57\n",
      "\u001b[?25hRequirement already satisfied: cycler>=0.10 in /Library/Frameworks/Python.framework/Versions/3.8/lib/python3.8/site-packages (from matplotlib>=2.1.2->seaborn) (0.10.0)\n",
      "Requirement already satisfied: kiwisolver>=1.0.1 in /Library/Frameworks/Python.framework/Versions/3.8/lib/python3.8/site-packages (from matplotlib>=2.1.2->seaborn) (1.2.0)\n",
      "Requirement already satisfied: python-dateutil>=2.1 in /Library/Frameworks/Python.framework/Versions/3.8/lib/python3.8/site-packages (from matplotlib>=2.1.2->seaborn) (2.8.1)\n",
      "Requirement already satisfied: pyparsing!=2.0.4,!=2.1.2,!=2.1.6,>=2.0.1 in /Library/Frameworks/Python.framework/Versions/3.8/lib/python3.8/site-packages (from matplotlib>=2.1.2->seaborn) (2.4.7)\n",
      "Requirement already satisfied: pytz>=2017.2 in /Library/Frameworks/Python.framework/Versions/3.8/lib/python3.8/site-packages (from pandas>=0.22.0->seaborn) (2020.1)\n",
      "Requirement already satisfied: six in /Library/Frameworks/Python.framework/Versions/3.8/lib/python3.8/site-packages (from cycler>=0.10->matplotlib>=2.1.2->seaborn) (1.15.0)\n",
      "Installing collected packages: scipy, seaborn\n",
      "Successfully installed scipy-1.5.1 seaborn-0.10.1\n",
      "Note: you may need to restart the kernel to use updated packages.\n"
     ]
    }
   ],
   "source": [
    "pip install seaborn"
   ]
  },
  {
   "cell_type": "code",
   "execution_count": 5,
   "metadata": {},
   "outputs": [],
   "source": [
    "import pandas as pd\n",
    "import seaborn as sns\n",
    "import matplotlib.pyplot as plt\n",
    "import numpy as np"
   ]
  },
  {
   "cell_type": "code",
   "execution_count": 8,
   "metadata": {},
   "outputs": [],
   "source": [
    "df = pd.read_csv('medical_examination.csv', index_col=0, sep=',')"
   ]
  },
  {
   "cell_type": "code",
   "execution_count": 9,
   "metadata": {},
   "outputs": [
    {
     "name": "stdout",
     "output_type": "stream",
     "text": [
      "      age  gender  height  weight  ap_hi  ap_lo  cholesterol  gluc  smoke  \\\n",
      "id                                                                          \n",
      "0   18393       2     168    62.0    110     80            1     1      0   \n",
      "1   20228       1     156    85.0    140     90            3     1      0   \n",
      "2   18857       1     165    64.0    130     70            3     1      0   \n",
      "3   17623       2     169    82.0    150    100            1     1      0   \n",
      "4   17474       1     156    56.0    100     60            1     1      0   \n",
      "\n",
      "    alco  active  cardio  \n",
      "id                        \n",
      "0      0       1       0  \n",
      "1      0       1       1  \n",
      "2      0       0       1  \n",
      "3      0       1       1  \n",
      "4      0       0       0  \n"
     ]
    }
   ],
   "source": [
    "print(df.head())"
   ]
  },
  {
   "cell_type": "code",
   "execution_count": 16,
   "metadata": {
    "collapsed": true
   },
   "outputs": [
    {
     "name": "stdout",
     "output_type": "stream",
     "text": [
      "id\n",
      "0        0\n",
      "1        1\n",
      "2        0\n",
      "3        1\n",
      "4        0\n",
      "        ..\n",
      "99993    1\n",
      "99995    1\n",
      "99996    1\n",
      "99998    1\n",
      "99999    0\n",
      "Name: overweight, Length: 70000, dtype: int64\n"
     ]
    }
   ],
   "source": [
    "#first calculate their BMI by dividing their weight in kilograms by the square of their height in meters. \n",
    "#If that value is > 25 then the person is overweight. Use the value 0 for NOT overweight and the value 1 for overweight.\n",
    "\n",
    "df['overweight'] = df['weight'] / ((df['height'] / 100) ** 2)\n",
    "df['overweight'] = np.where(df['overweight']>25, 1, 0) #if value over 25 return 1, else retun 0\n",
    "print(df['overweight'])"
   ]
  },
  {
   "cell_type": "code",
   "execution_count": 18,
   "metadata": {},
   "outputs": [
    {
     "name": "stdout",
     "output_type": "stream",
     "text": [
      "      age  gender  height  weight  ap_hi  ap_lo  cholesterol  gluc  smoke  \\\n",
      "id                                                                          \n",
      "0   18393       2     168    62.0    110     80            1     1      0   \n",
      "1   20228       1     156    85.0    140     90            0     1      0   \n",
      "2   18857       1     165    64.0    130     70            0     1      0   \n",
      "3   17623       2     169    82.0    150    100            1     1      0   \n",
      "4   17474       1     156    56.0    100     60            1     1      0   \n",
      "\n",
      "    alco  active  cardio  overweight  \n",
      "id                                    \n",
      "0      0       1       0           0  \n",
      "1      0       1       1           1  \n",
      "2      0       0       1           0  \n",
      "3      0       1       1           1  \n",
      "4      0       0       0           0  \n"
     ]
    }
   ],
   "source": [
    "# Normalize data by making 0 always good and 1 always bad. \n",
    "#If the value of 'cholestorol' or 'gluc' is 1, make the value 0. \n",
    "#If the value is more than 1, make the value 1.\n",
    "df['cholesterol'] = np.where(df['cholesterol']==1, 0, 1)\n",
    "df['gluc'] = np.where(df['gluc']==1, 0, 1)\n",
    "print(df.head())"
   ]
  },
  {
   "cell_type": "code",
   "execution_count": 35,
   "metadata": {},
   "outputs": [
    {
     "data": {
      "text/plain": [
       "<matplotlib.legend.Legend at 0x125644bb0>"
      ]
     },
     "execution_count": 35,
     "metadata": {},
     "output_type": "execute_result"
    },
    {
     "data": {
      "image/png": "[encoded data removed]",
      "text/plain": [
       "<Figure size 432x288 with 1 Axes>"
      ]
     },
     "metadata": {
      "needs_background": "light"
     },
     "output_type": "display_data"
    }
   ],
   "source": [
    "x = np.linspace(0, 2, 100) #makes like a fake array from 0 - 2 with 100 points between\n",
    "\n",
    "# Note that even in the OO-style, we use `.pyplot.figure` to create the figure.\n",
    "fig, ax = plt.subplots()  # Create a figure and an axes.\n",
    "ax.plot(x, x, label='linear')  # Plot some data on the axes.\n",
    "ax.plot(x, x**2, label='quadratic')  # Plot more data on the axes...\n",
    "ax.plot(x, x**3, label='cubic')  # ... and some more.\n",
    "ax.set_xlabel('x label')  # Add an x-label to the axes.\n",
    "ax.set_ylabel('y label')  # Add a y-label to the axes.\n",
    "ax.set_title(\"Simple Plot\")  # Add a title to the axes.\n",
    "ax.legend()  # Add a legend."
   ]
  },
  {
   "cell_type": "code",
   "execution_count": 36,
   "metadata": {
    "scrolled": true
   },
   "outputs": [
    {
     "data": {
      "text/plain": [
       "<seaborn.axisgrid.FacetGrid at 0x1253239a0>"
      ]
     },
     "execution_count": 36,
     "metadata": {},
     "output_type": "execute_result"
    },
    {
     "data": {
      "image/png": "[encoded data removed]",
      "text/plain": [
       "<Figure size 360x360 with 1 Axes>"
      ]
     },
     "metadata": {
      "needs_background": "light"
     },
     "output_type": "display_data"
    }
   ],
   "source": [
    "sns.catplot(data=df)"
   ]
  },
  {
   "cell_type": "code",
   "execution_count": 41,
   "metadata": {},
   "outputs": [],
   "source": [
    "    # Create DataFrame for cat plot using `pd.melt` using just the values from\n",
    "    #'cholesterol', 'gluc', 'smoke', 'alco', 'active', and 'overweight'.\n",
    "    # age  gender  height  weight  ap_hi  ap_lo  cholesterol  gluc  smoke alco  active  cardio  overweight\n",
    "    \n",
    "    #df_cat = pd.melt(df[['cholesterol','gluc','smoke','alco','active','overweight']])\n",
    "    df_cat = df.melt(id_vars=['cholesterol','gluc','smoke','alco','active','overweight'],\n",
    "        var_name=\"Measurement\", \n",
    "        value_name=\"Values\")"
   ]
  },
  {
   "cell_type": "code",
   "execution_count": 42,
   "metadata": {},
   "outputs": [
    {
     "name": "stdout",
     "output_type": "stream",
     "text": [
      "      variable  value\n",
      "0  cholesterol      1\n",
      "1  cholesterol      0\n",
      "2  cholesterol      0\n",
      "3  cholesterol      1\n",
      "4  cholesterol      1\n"
     ]
    }
   ],
   "source": [
    "print(df_cat.head())\n",
    "#sns.catplot(data=df_cat)"
   ]
  },
  {
   "cell_type": "code",
   "execution_count": null,
   "metadata": {},
   "outputs": [],
   "source": []
  }
 ],
 "metadata": {
  "kernelspec": {
   "display_name": "Python 3",
   "language": "python",
   "name": "python3"
  },
  "language_info": {
   "codemirror_mode": {
    "name": "ipython",
    "version": 3
   },
   "file_extension": ".py",
   "mimetype": "text/x-python",
   "name": "python",
   "nbconvert_exporter": "python",
   "pygments_lexer": "ipython3",
   "version": "3.8.3"
  }
 },
 "nbformat": 4,
 "nbformat_minor": 4
}
