{
 "cells": [
  {
   "cell_type": "code",
   "execution_count": 1,
   "metadata": {},
   "outputs": [
    {
     "name": "stdout",
     "output_type": "stream",
     "text": [
      "Requirement already satisfied: matplotlib in /Library/Frameworks/Python.framework/Versions/3.8/lib/python3.8/site-packages (3.2.2)\n",
      "Requirement already satisfied: pyparsing!=2.0.4,!=2.1.2,!=2.1.6,>=2.0.1 in /Library/Frameworks/Python.framework/Versions/3.8/lib/python3.8/site-packages (from matplotlib) (2.4.7)\n",
      "Requirement already satisfied: numpy>=1.11 in /Library/Frameworks/Python.framework/Versions/3.8/lib/python3.8/site-packages (from matplotlib) (1.19.0)\n",
      "Requirement already satisfied: cycler>=0.10 in /Library/Frameworks/Python.framework/Versions/3.8/lib/python3.8/site-packages (from matplotlib) (0.10.0)\n",
      "Requirement already satisfied: kiwisolver>=1.0.1 in /Library/Frameworks/Python.framework/Versions/3.8/lib/python3.8/site-packages (from matplotlib) (1.2.0)\n",
      "Requirement already satisfied: python-dateutil>=2.1 in /Library/Frameworks/Python.framework/Versions/3.8/lib/python3.8/site-packages (from matplotlib) (2.8.1)\n",
      "Requirement already satisfied: six in /Library/Frameworks/Python.framework/Versions/3.8/lib/python3.8/site-packages (from cycler>=0.10->matplotlib) (1.15.0)\n",
      "Note: you may need to restart the kernel to use updated packages.\n"
     ]
    }
   ],
   "source": [
    "pip install matplotlib"
   ]
  },
  {
   "cell_type": "code",
   "execution_count": 2,
   "metadata": {},
   "outputs": [
    {
     "name": "stdout",
     "output_type": "stream",
     "text": [
      "Requirement already satisfied: seaborn in /Library/Frameworks/Python.framework/Versions/3.8/lib/python3.8/site-packages (0.10.1)\n",
      "Requirement already satisfied: numpy>=1.13.3 in /Library/Frameworks/Python.framework/Versions/3.8/lib/python3.8/site-packages (from seaborn) (1.19.0)\n",
      "Requirement already satisfied: scipy>=1.0.1 in /Library/Frameworks/Python.framework/Versions/3.8/lib/python3.8/site-packages (from seaborn) (1.5.1)\n",
      "Requirement already satisfied: matplotlib>=2.1.2 in /Library/Frameworks/Python.framework/Versions/3.8/lib/python3.8/site-packages (from seaborn) (3.2.2)\n",
      "Requirement already satisfied: pandas>=0.22.0 in /Library/Frameworks/Python.framework/Versions/3.8/lib/python3.8/site-packages (from seaborn) (1.0.5)\n",
      "Requirement already satisfied: pyparsing!=2.0.4,!=2.1.2,!=2.1.6,>=2.0.1 in /Library/Frameworks/Python.framework/Versions/3.8/lib/python3.8/site-packages (from matplotlib>=2.1.2->seaborn) (2.4.7)\n",
      "Requirement already satisfied: cycler>=0.10 in /Library/Frameworks/Python.framework/Versions/3.8/lib/python3.8/site-packages (from matplotlib>=2.1.2->seaborn) (0.10.0)\n",
      "Requirement already satisfied: python-dateutil>=2.1 in /Library/Frameworks/Python.framework/Versions/3.8/lib/python3.8/site-packages (from matplotlib>=2.1.2->seaborn) (2.8.1)\n",
      "Requirement already satisfied: kiwisolver>=1.0.1 in /Library/Frameworks/Python.framework/Versions/3.8/lib/python3.8/site-packages (from matplotlib>=2.1.2->seaborn) (1.2.0)\n",
      "Requirement already satisfied: pytz>=2017.2 in /Library/Frameworks/Python.framework/Versions/3.8/lib/python3.8/site-packages (from pandas>=0.22.0->seaborn) (2020.1)\n",
      "Requirement already satisfied: six in /Library/Frameworks/Python.framework/Versions/3.8/lib/python3.8/site-packages (from cycler>=0.10->matplotlib>=2.1.2->seaborn) (1.15.0)\n",
      "Note: you may need to restart the kernel to use updated packages.\n"
     ]
    }
   ],
   "source": [
    "pip install seaborn"
   ]
  },
  {
   "cell_type": "code",
   "execution_count": 3,
   "metadata": {},
   "outputs": [],
   "source": [
    "import pandas as pd\n",
    "import seaborn as sns\n",
    "import matplotlib.pyplot as plt\n",
    "import numpy as np"
   ]
  },
  {
   "cell_type": "code",
   "execution_count": 4,
   "metadata": {},
   "outputs": [],
   "source": [
    "df = pd.read_csv('medical_examination.csv', index_col=0, sep=',')"
   ]
  },
  {
   "cell_type": "code",
   "execution_count": 5,
   "metadata": {},
   "outputs": [
    {
     "name": "stdout",
     "output_type": "stream",
     "text": [
      "      age  gender  height  weight  ap_hi  ap_lo  cholesterol  gluc  smoke  \\\n",
      "id                                                                          \n",
      "0   18393       2     168    62.0    110     80            1     1      0   \n",
      "1   20228       1     156    85.0    140     90            3     1      0   \n",
      "2   18857       1     165    64.0    130     70            3     1      0   \n",
      "3   17623       2     169    82.0    150    100            1     1      0   \n",
      "4   17474       1     156    56.0    100     60            1     1      0   \n",
      "\n",
      "    alco  active  cardio  \n",
      "id                        \n",
      "0      0       1       0  \n",
      "1      0       1       1  \n",
      "2      0       0       1  \n",
      "3      0       1       1  \n",
      "4      0       0       0  \n",
      "Index(['age', 'gender', 'height', 'weight', 'ap_hi', 'ap_lo', 'cholesterol',\n",
      "       'gluc', 'smoke', 'alco', 'active', 'cardio'],\n",
      "      dtype='object')\n"
     ]
    }
   ],
   "source": [
    "print(df.head())\n",
    "print(df.columns)"
   ]
  },
  {
   "cell_type": "code",
   "execution_count": 6,
   "metadata": {},
   "outputs": [
    {
     "name": "stdout",
     "output_type": "stream",
     "text": [
      "id\n",
      "0        0\n",
      "1        1\n",
      "2        0\n",
      "3        1\n",
      "4        0\n",
      "        ..\n",
      "99993    1\n",
      "99995    1\n",
      "99996    1\n",
      "99998    1\n",
      "99999    0\n",
      "Name: overweight, Length: 70000, dtype: int64\n"
     ]
    }
   ],
   "source": [
    "#first calculate their BMI by dividing their weight in kilograms by the square of their height in meters. \n",
    "#If that value is > 25 then the person is overweight. Use the value 0 for NOT overweight and the value 1 for overweight.\n",
    "\n",
    "df['overweight'] = df['weight'] / ((df['height'] / 100) ** 2)\n",
    "df['overweight'] = np.where(df['overweight']>25, 1, 0) #if value over 25 return 1, else retun 0\n",
    "print(df['overweight'])"
   ]
  },
  {
   "cell_type": "code",
   "execution_count": 7,
   "metadata": {},
   "outputs": [
    {
     "name": "stdout",
     "output_type": "stream",
     "text": [
      "      age  gender  height  weight  ap_hi  ap_lo  cholesterol  gluc  smoke  \\\n",
      "id                                                                          \n",
      "0   18393       2     168    62.0    110     80            0     0      0   \n",
      "1   20228       1     156    85.0    140     90            1     0      0   \n",
      "2   18857       1     165    64.0    130     70            1     0      0   \n",
      "3   17623       2     169    82.0    150    100            0     0      0   \n",
      "4   17474       1     156    56.0    100     60            0     0      0   \n",
      "\n",
      "    alco  active  cardio  overweight  \n",
      "id                                    \n",
      "0      0       1       0           0  \n",
      "1      0       1       1           1  \n",
      "2      0       0       1           0  \n",
      "3      0       1       1           1  \n",
      "4      0       0       0           0  \n"
     ]
    }
   ],
   "source": [
    "# Normalize data by making 0 always good and 1 always bad. \n",
    "#If the value of 'cholestorol' or 'gluc' is 1, make the value 0. \n",
    "#If the value is more than 1, make the value 1.\n",
    "df['cholesterol'] = np.where(df['cholesterol']==1, 0, 1)\n",
    "df['gluc'] = np.where(df['gluc']==1, 0, 1)\n",
    "print(df.head())"
   ]
  },
  {
   "cell_type": "code",
   "execution_count": 8,
   "metadata": {},
   "outputs": [
    {
     "name": "stdout",
     "output_type": "stream",
     "text": [
      "        cardio     variable  value\n",
      "0            0  cholesterol      0\n",
      "1            1  cholesterol      1\n",
      "2            1  cholesterol      1\n",
      "3            1  cholesterol      0\n",
      "4            0  cholesterol      0\n",
      "...        ...          ...    ...\n",
      "419995       0   overweight      1\n",
      "419996       1   overweight      1\n",
      "419997       1   overweight      1\n",
      "419998       1   overweight      1\n",
      "419999       0   overweight      0\n",
      "\n",
      "[420000 rows x 3 columns]\n"
     ]
    }
   ],
   "source": [
    "    # Create DataFrame for cat plot using `pd.melt` using just the values from\n",
    "    #'cholesterol', 'gluc', 'smoke', 'alco', 'active', and 'overweight'.\n",
    "    # age  gender  height  weight  ap_hi  ap_lo  cholesterol  gluc  smoke alco  active  cardio  overweight\n",
    "  \n",
    "    df_cat = df_cat = pd.melt(df, id_vars=['cardio'], value_vars=['cholesterol','gluc','smoke','alco','active','overweight'])\n",
    "    print(df_cat)"
   ]
  },
  {
   "cell_type": "code",
   "execution_count": 9,
   "metadata": {
    "scrolled": false
   },
   "outputs": [
    {
     "name": "stdout",
     "output_type": "stream",
     "text": [
      "    cardio     variable  value  total\n",
      "0        0       active      0   6378\n",
      "1        0       active      1  28643\n",
      "2        0         alco      0  33080\n",
      "3        0         alco      1   1941\n",
      "4        0  cholesterol      0  29330\n",
      "5        0  cholesterol      1   5691\n",
      "6        0         gluc      0  30894\n",
      "7        0         gluc      1   4127\n",
      "8        0   overweight      0  15915\n",
      "9        0   overweight      1  19106\n",
      "10       0        smoke      0  31781\n",
      "11       0        smoke      1   3240\n",
      "12       1       active      0   7361\n",
      "13       1       active      1  27618\n",
      "14       1         alco      0  33156\n",
      "15       1         alco      1   1823\n",
      "16       1  cholesterol      0  23055\n",
      "17       1  cholesterol      1  11924\n",
      "18       1         gluc      0  28585\n",
      "19       1         gluc      1   6394\n",
      "20       1   overweight      0  10539\n",
      "21       1   overweight      1  24440\n",
      "22       1        smoke      0  32050\n",
      "23       1        smoke      1   2929\n"
     ]
    }
   ],
   "source": [
    "df_cat = pd.melt(df, id_vars=['cardio'], value_vars=['cholesterol','gluc','smoke','alco','active','overweight'])\n",
    "df_cat['total'] = 0\n",
    "df_cat = df_cat.groupby(['cardio', 'variable', 'value'], as_index=False).count()\n",
    "#df_cat = df_cat.groupby(['cardio', 'variable']).count()\n",
    "print(df_cat)"
   ]
  },
  {
   "cell_type": "code",
   "execution_count": 10,
   "metadata": {},
   "outputs": [
    {
     "data": {
      "text/plain": [
       "<seaborn.axisgrid.FacetGrid at 0x12373cc40>"
      ]
     },
     "execution_count": 10,
     "metadata": {},
     "output_type": "execute_result"
    },
    {
     "data": {
      "image/png": "[encoded data removed]",
      "text/plain": [
       "<Figure size 762.375x360 with 2 Axes>"
      ]
     },
     "metadata": {
      "needs_background": "light"
     },
     "output_type": "display_data"
    }
   ],
   "source": [
    "#(x=None, y=None, hue=None, data=None, row=None, col=None, col_wrap=None, \n",
    "#estimator=<function mean at 0x105c7d9e0>, ci=95, n_boot=1000, units=None, \n",
    "#seed=None, order=None, hue_order=None, row_order=None, col_order=None, \n",
    "#kind='strip', height=5, aspect=1, orient=None, color=None, palette=None, \n",
    "#legend=True, legend_out=True, sharex=True, sharey=True, margin_titles=False, facet_kws=None, **kwargs)\n",
    "\n",
    "#g = sns.FacetGrid(df_cat, col=\"cardio\")\n",
    "#g.map(sns.catplot, data=df_cat, x=\"variable\", y=\"total\", col=\"cardio\", orient=\"v\")\n",
    "#g.map(data=df_cat, row=\"variable\", col=\"total\", kind=\"bar\")\n",
    "sns.catplot(\n",
    "    data=df_cat, \n",
    "    x=\"variable\", \n",
    "    y=\"total\", \n",
    "    col=\"cardio\",\n",
    "    hue=\"value\",\n",
    "    kind=\"bar\",\n",
    "    legend_out=True,\n",
    ")"
   ]
  },
  {
   "cell_type": "code",
   "execution_count": 11,
   "metadata": {},
   "outputs": [
    {
     "name": "stdout",
     "output_type": "stream",
     "text": [
      "ch 0 5691 29330 35021\n",
      "   cholesterol   gluc  smoke   alco  active  overweight\n",
      "0         5691   4127   3240   1941   28643       19106\n",
      "1        29330  30894  31781  33080    6378       15915\n"
     ]
    }
   ],
   "source": [
    "#print(df[df['cardio'] == 1])\n",
    "cardio_0 = df[df['cardio'] == 0]\n",
    "print('ch 0', cardio_0['cholesterol'].sum(), cardio_0['cholesterol'].isin([0]).sum(), len(cardio_0))\n",
    "cardio_0_sums_1 = [cardio_0['cholesterol'].sum(), cardio_0['gluc'].sum(), cardio_0['smoke'].sum(), cardio_0['alco'].sum(), cardio_0['active'].sum(), cardio_0['overweight'].sum()]\n",
    "cardio_0_sums_0 = [\n",
    "    cardio_0['cholesterol'].isin([0]).sum(),\n",
    "    cardio_0['gluc'].isin([0]).sum(),\n",
    "    cardio_0['smoke'].isin([0]).sum(),\n",
    "    cardio_0['alco'].isin([0]).sum(),\n",
    "    cardio_0['active'].isin([0]).sum(),\n",
    "    cardio_0['overweight'].isin([0]).sum()]\n",
    "\n",
    "#cardio_0_reduced = cardio_0[cardio_0['cholesterol','gluc','smoke','alco','active','overweight']]\n",
    "sumTable = pd.DataFrame([cardio_0_sums_1, cardio_0_sums_0] ,columns=['cholesterol','gluc','smoke','alco','active','overweight'])\n",
    "print(sumTable)"
   ]
  },
  {
   "cell_type": "code",
   "execution_count": 12,
   "metadata": {},
   "outputs": [
    {
     "data": {
      "image/png": "[encoded data removed]",
      "text/plain": [
       "<Figure size 360x360 with 1 Axes>"
      ]
     },
     "metadata": {
      "needs_background": "light"
     },
     "output_type": "display_data"
    },
    {
     "data": {
      "image/png": "[encoded data removed]",
      "text/plain": [
       "<Figure size 360x360 with 1 Axes>"
      ]
     },
     "metadata": {
      "needs_background": "light"
     },
     "output_type": "display_data"
    }
   ],
   "source": [
    "sns.catplot(data=sumTable)\n",
    "sns.catplot(data=sumTable);"
   ]
  },
  {
   "cell_type": "code",
   "execution_count": 13,
   "metadata": {},
   "outputs": [
    {
     "data": {
      "text/plain": [
       "<seaborn.axisgrid.FacetGrid at 0x123e0f970>"
      ]
     },
     "execution_count": 13,
     "metadata": {},
     "output_type": "execute_result"
    },
    {
     "data": {
      "image/png": "[encoded data removed]",
      "text/plain": [
       "<Figure size 360x360 with 1 Axes>"
      ]
     },
     "metadata": {
      "needs_background": "light"
     },
     "output_type": "display_data"
    }
   ],
   "source": [
    "sns.catplot(data=df)"
   ]
  },
  {
   "cell_type": "code",
   "execution_count": 14,
   "metadata": {},
   "outputs": [
    {
     "data": {
      "text/plain": [
       "<matplotlib.legend.Legend at 0x126dc0640>"
      ]
     },
     "execution_count": 14,
     "metadata": {},
     "output_type": "execute_result"
    },
    {
     "data": {
      "image/png": "[encoded data removed]",
      "text/plain": [
       "<Figure size 432x288 with 1 Axes>"
      ]
     },
     "metadata": {
      "needs_background": "light"
     },
     "output_type": "display_data"
    }
   ],
   "source": [
    "x = np.linspace(0, 2, 100) #makes like a fake array from 0 - 2 with 100 points between\n",
    "\n",
    "# Note that even in the OO-style, we use `.pyplot.figure` to create the figure.\n",
    "fig, ax = plt.subplots()  # Create a figure and an axes.\n",
    "ax.plot(x, x, label='linear')  # Plot some data on the axes.\n",
    "ax.plot(x, x**2, label='quadratic')  # Plot more data on the axes...\n",
    "ax.plot(x, x**3, label='cubic')  # ... and some more.\n",
    "ax.set_xlabel('x label')  # Add an x-label to the axes.\n",
    "ax.set_ylabel('y label')  # Add a y-label to the axes.\n",
    "ax.set_title(\"Simple Plot\")  # Add a title to the axes.\n",
    "ax.legend()  # Add a legend."
   ]
  },
  {
   "cell_type": "code",
   "execution_count": 15,
   "metadata": {},
   "outputs": [
    {
     "name": "stdout",
     "output_type": "stream",
     "text": [
      "         age  gender  height  weight  ap_hi  ap_lo  cholesterol  gluc  smoke  \\\n",
      "id                                                                             \n",
      "0      18393       2     168    62.0    110     80            0     0      0   \n",
      "1      20228       1     156    85.0    140     90            1     0      0   \n",
      "2      18857       1     165    64.0    130     70            1     0      0   \n",
      "3      17623       2     169    82.0    150    100            0     0      0   \n",
      "4      17474       1     156    56.0    100     60            0     0      0   \n",
      "...      ...     ...     ...     ...    ...    ...          ...   ...    ...   \n",
      "99993  19240       2     168    76.0    120     80            0     0      1   \n",
      "99995  22601       1     158   126.0    140     90            1     1      0   \n",
      "99996  19066       2     183   105.0    180     90            1     0      0   \n",
      "99998  22431       1     163    72.0    135     80            0     1      0   \n",
      "99999  20540       1     170    72.0    120     80            1     0      0   \n",
      "\n",
      "       alco  active  cardio  overweight  \n",
      "id                                       \n",
      "0         0       1       0           0  \n",
      "1         0       1       1           1  \n",
      "2         0       0       1           0  \n",
      "3         0       1       1           1  \n",
      "4         0       0       0           0  \n",
      "...     ...     ...     ...         ...  \n",
      "99993     0       1       0           1  \n",
      "99995     0       1       1           1  \n",
      "99996     1       0       1           1  \n",
      "99998     0       0       1           1  \n",
      "99999     0       1       0           0  \n",
      "\n",
      "[70000 rows x 13 columns]\n"
     ]
    }
   ],
   "source": [
    "print(df)"
   ]
  },
  {
   "cell_type": "code",
   "execution_count": 41,
   "metadata": {},
   "outputs": [
    {
     "name": "stdout",
     "output_type": "stream",
     "text": [
      "67260\n",
      "65000\n",
      "62087\n"
     ]
    }
   ],
   "source": [
    "heightCap = np.percentile(df['height'], 97.5)\n",
    "weightMin = np.percentile(df['weight'], 2.5)\n",
    "weightMax = np.percentile(df['weight'], 97.5)\n",
    "#print(heightCap, weightMin, weightMax)\n",
    "df_heat = df.copy()\n",
    "df_heat = df_heat[((df_heat['ap_lo'] <= df_heat['ap_hi']) & (df_heat['height'] >= df_heat['height'].quantile(0.025)))]\n",
    "print(len(df_heat))\n",
    "df_heat = df_heat[(df_heat['height'] < heightCap)]\n",
    "print(len(df_heat))\n",
    "df_heat = df_heat[((df_heat['weight'] > weightMin) & (df_heat['weight'] < weightMax))]\n",
    "print(len(df_heat))\n",
    "#print(df.info)"
   ]
  },
  {
   "cell_type": "code",
   "execution_count": 70,
   "metadata": {},
   "outputs": [
    {
     "name": "stdout",
     "output_type": "stream",
     "text": [
      "          id    age  gender  height  weight  ap_hi  ap_lo  cholesterol  gluc  \\\n",
      "id                                                                             \n",
      "0          0  18393       2     168    62.0    110     80            0     0   \n",
      "1          1  20228       1     156    85.0    140     90            1     0   \n",
      "2          2  18857       1     165    64.0    130     70            1     0   \n",
      "3          3  17623       2     169    82.0    150    100            0     0   \n",
      "4          4  17474       1     156    56.0    100     60            0     0   \n",
      "...      ...    ...     ...     ...     ...    ...    ...          ...   ...   \n",
      "99991  62082  19699       1     172    70.0    130     90            0     0   \n",
      "99992  62083  21074       1     165    80.0    150     80            0     0   \n",
      "99993  62084  19240       2     168    76.0    120     80            0     0   \n",
      "99998  62085  22431       1     163    72.0    135     80            0     1   \n",
      "99999  62086  20540       1     170    72.0    120     80            1     0   \n",
      "\n",
      "       smoke  alco  active  cardio  overweight new_id  \n",
      "id                                                     \n",
      "0          0     0       1       0           0   fark  \n",
      "1          0     0       1       1           1   fark  \n",
      "2          0     0       0       1           0   fark  \n",
      "3          0     0       1       1           1   fark  \n",
      "4          0     0       0       0           0   fark  \n",
      "...      ...   ...     ...     ...         ...    ...  \n",
      "99991      0     0       1       1           0   fark  \n",
      "99992      0     0       1       1           1   fark  \n",
      "99993      1     0       1       0           1   fark  \n",
      "99998      0     0       0       1           1   fark  \n",
      "99999      0     0       1       0           0   fark  \n",
      "\n",
      "[62087 rows x 15 columns]\n",
      "          id    age  gender  height  weight  ap_hi  ap_lo  cholesterol  gluc  \\\n",
      "id                                                                             \n",
      "0          0  18393       2     168    62.0    110     80            0     0   \n",
      "1          1  20228       1     156    85.0    140     90            1     0   \n",
      "2          2  18857       1     165    64.0    130     70            1     0   \n",
      "3          3  17623       2     169    82.0    150    100            0     0   \n",
      "4          4  17474       1     156    56.0    100     60            0     0   \n",
      "...      ...    ...     ...     ...     ...    ...    ...          ...   ...   \n",
      "99991  62082  19699       1     172    70.0    130     90            0     0   \n",
      "99992  62083  21074       1     165    80.0    150     80            0     0   \n",
      "99993  62084  19240       2     168    76.0    120     80            0     0   \n",
      "99998  62085  22431       1     163    72.0    135     80            0     1   \n",
      "99999  62086  20540       1     170    72.0    120     80            1     0   \n",
      "\n",
      "       smoke  alco  active  cardio  overweight  \n",
      "id                                              \n",
      "0          0     0       1       0           0  \n",
      "1          0     0       1       1           1  \n",
      "2          0     0       0       1           0  \n",
      "3          0     0       1       1           1  \n",
      "4          0     0       0       0           0  \n",
      "...      ...   ...     ...     ...         ...  \n",
      "99991      0     0       1       1           0  \n",
      "99992      0     0       1       1           1  \n",
      "99993      1     0       1       0           1  \n",
      "99998      0     0       0       1           1  \n",
      "99999      0     0       1       0           0  \n",
      "\n",
      "[62087 rows x 14 columns]\n"
     ]
    }
   ],
   "source": [
    "#print(df_heat)\n",
    "#df_heat['id'] = df_heat['id']\n",
    "df_heat['id'] = range(len(df_heat)) \n",
    "#print(df_heat)\n",
    "#print(df_heat.columns.tolist())\n",
    "df_heat= df_heat[['id','age', 'gender', 'height', 'weight', 'ap_hi', 'ap_lo', 'cholesterol', 'gluc', 'smoke', 'alco', 'active', 'cardio', 'overweight']]\n",
    "print(df_heat)"
   ]
  },
  {
   "cell_type": "code",
   "execution_count": null,
   "metadata": {},
   "outputs": [],
   "source": [
    "#df_heat = pd.melt(df_heat, value_vars=['age', 'gender', 'height', 'weight', 'ap_hi', 'ap_lo', 'cholesterol', 'gluc', 'smoke', 'alco', 'active', 'cardio'])\n",
    "#print(df_heat)"
   ]
  },
  {
   "cell_type": "code",
   "execution_count": 111,
   "metadata": {},
   "outputs": [
    {
     "name": "stdout",
     "output_type": "stream",
     "text": [
      "              id  age  gender  height  weight  ap_hi  ap_lo  cholesterol  \\\n",
      "id           1.0  0.0     0.0     0.0     0.0    0.0    0.0          0.0   \n",
      "age          0.0  1.0    -0.0    -0.1     0.1    0.2    0.2          0.1   \n",
      "gender       0.0 -0.0     1.0     0.5     0.1    0.1    0.1         -0.0   \n",
      "height       0.0 -0.1     0.5     1.0     0.2    0.0    0.0         -0.1   \n",
      "weight       0.0  0.1     0.1     0.2     1.0    0.3    0.2          0.1   \n",
      "ap_hi        0.0  0.2     0.1     0.0     0.3    1.0    0.7          0.2   \n",
      "ap_lo        0.0  0.2     0.1     0.0     0.2    0.7    1.0          0.2   \n",
      "cholesterol  0.0  0.1    -0.0    -0.1     0.1    0.2    0.2          1.0   \n",
      "gluc         0.0  0.1    -0.0    -0.0     0.1    0.1    0.1          0.4   \n",
      "smoke       -0.0 -0.0     0.3     0.2     0.1    0.0    0.0          0.0   \n",
      "alco        -0.0 -0.0     0.2     0.1     0.1    0.0    0.0          0.0   \n",
      "active       0.0 -0.0     0.0    -0.0    -0.0    0.0    0.0          0.0   \n",
      "cardio       0.0  0.2     0.0    -0.0     0.2    0.4    0.3          0.2   \n",
      "overweight  -0.0  0.1    -0.1    -0.2     0.7    0.2    0.2          0.1   \n",
      "\n",
      "             gluc  smoke  alco  active  cardio  overweight  \n",
      "id            0.0   -0.0  -0.0     0.0     0.0        -0.0  \n",
      "age           0.1   -0.0  -0.0    -0.0     0.2         0.1  \n",
      "gender       -0.0    0.3   0.2     0.0     0.0        -0.1  \n",
      "height       -0.0    0.2   0.1    -0.0    -0.0        -0.2  \n",
      "weight        0.1    0.1   0.1    -0.0     0.2         0.7  \n",
      "ap_hi         0.1    0.0   0.0     0.0     0.4         0.2  \n",
      "ap_lo         0.1    0.0   0.0     0.0     0.3         0.2  \n",
      "cholesterol   0.4    0.0   0.0     0.0     0.2         0.1  \n",
      "gluc          1.0   -0.0   0.0    -0.0     0.1         0.1  \n",
      "smoke        -0.0    1.0   0.3     0.0    -0.0        -0.0  \n",
      "alco          0.0    0.3   1.0     0.0    -0.0         0.0  \n",
      "active       -0.0    0.0   0.0     1.0    -0.0        -0.0  \n",
      "cardio        0.1   -0.0  -0.0    -0.0     1.0         0.1  \n",
      "overweight    0.1   -0.0   0.0    -0.0     0.1         1.0  \n"
     ]
    }
   ],
   "source": [
    "corr = df_heat.corr(method=\"spearman\")\n",
    "corr = round(corr, 1)\n",
    "corr = corr.astype('float')\n",
    "print(corr)"
   ]
  },
  {
   "cell_type": "code",
   "execution_count": 90,
   "metadata": {},
   "outputs": [
    {
     "name": "stdout",
     "output_type": "stream",
     "text": [
      "[[1. 1. 1. 1. 1. 1. 1. 1. 1. 1. 1. 1. 1. 1.]\n",
      " [0. 1. 1. 1. 1. 1. 1. 1. 1. 1. 1. 1. 1. 1.]\n",
      " [0. 0. 1. 1. 1. 1. 1. 1. 1. 1. 1. 1. 1. 1.]\n",
      " [0. 0. 0. 1. 1. 1. 1. 1. 1. 1. 1. 1. 1. 1.]\n",
      " [0. 0. 0. 0. 1. 1. 1. 1. 1. 1. 1. 1. 1. 1.]\n",
      " [0. 0. 0. 0. 0. 1. 1. 1. 1. 1. 1. 1. 1. 1.]\n",
      " [0. 0. 0. 0. 0. 0. 1. 1. 1. 1. 1. 1. 1. 1.]\n",
      " [0. 0. 0. 0. 0. 0. 0. 1. 1. 1. 1. 1. 1. 1.]\n",
      " [0. 0. 0. 0. 0. 0. 0. 0. 1. 1. 1. 1. 1. 1.]\n",
      " [0. 0. 0. 0. 0. 0. 0. 0. 0. 1. 1. 1. 1. 1.]\n",
      " [0. 0. 0. 0. 0. 0. 0. 0. 0. 0. 1. 1. 1. 1.]\n",
      " [0. 0. 0. 0. 0. 0. 0. 0. 0. 0. 0. 1. 1. 1.]\n",
      " [0. 0. 0. 0. 0. 0. 0. 0. 0. 0. 0. 0. 1. 1.]\n",
      " [0. 0. 0. 0. 0. 0. 0. 0. 0. 0. 0. 0. 0. 1.]]\n"
     ]
    }
   ],
   "source": [
    "#from documentation: https://seaborn.pydata.org/generated/seaborn.heatmap.html?highlight=heatmap#seaborn.heatmap\n",
    "mask = np.zeros_like(corr)\n",
    "mask[np.triu_indices_from(mask)] = True\n",
    "print(mask)"
   ]
  },
  {
   "cell_type": "code",
   "execution_count": 109,
   "metadata": {},
   "outputs": [
    {
     "data": {
      "text/plain": [
       "<matplotlib.axes._subplots.AxesSubplot at 0x12ad2fca0>"
      ]
     },
     "execution_count": 109,
     "metadata": {},
     "output_type": "execute_result"
    },
    {
     "data": {
      "image/png": "[encoded data removed]",
      "text/plain": [
       "<Figure size 432x288 with 2 Axes>"
      ]
     },
     "metadata": {
      "needs_background": "light"
     },
     "output_type": "display_data"
    }
   ],
   "source": [
    "sns.heatmap(corr, square=True, mask=mask, annot=True, fmt='.1f')"
   ]
  },
  {
   "cell_type": "code",
   "execution_count": null,
   "metadata": {},
   "outputs": [],
   "source": []
  }
 ],
 "metadata": {
  "kernelspec": {
   "display_name": "Python 3",
   "language": "python",
   "name": "python3"
  },
  "language_info": {
   "codemirror_mode": {
    "name": "ipython",
    "version": 3
   },
   "file_extension": ".py",
   "mimetype": "text/x-python",
   "name": "python",
   "nbconvert_exporter": "python",
   "pygments_lexer": "ipython3",
   "version": "3.8.3"
  }
 },
 "nbformat": 4,
 "nbformat_minor": 4
}
