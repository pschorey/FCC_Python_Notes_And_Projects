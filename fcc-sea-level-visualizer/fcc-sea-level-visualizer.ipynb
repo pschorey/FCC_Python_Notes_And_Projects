{
 "cells": [
  {
   "cell_type": "code",
   "execution_count": 7,
   "metadata": {},
   "outputs": [],
   "source": [
    "import matplotlib.pyplot as plt\n",
    "import pandas as pd\n",
    "import seaborn as sns\n",
    "from scipy.stats import linregress"
   ]
  },
  {
   "cell_type": "code",
   "execution_count": 8,
   "metadata": {},
   "outputs": [],
   "source": [
    "df = pd.read_csv('epa-sea-level.csv', sep=',')"
   ]
  },
  {
   "cell_type": "code",
   "execution_count": 4,
   "metadata": {},
   "outputs": [
    {
     "name": "stdout",
     "output_type": "stream",
     "text": [
      "     Year  CSIRO Adjusted Sea Level  Lower Error Bound  Upper Error Bound  \\\n",
      "0    1880                  0.000000          -0.952756           0.952756   \n",
      "1    1881                  0.220472          -0.732283           1.173228   \n",
      "2    1882                 -0.440945          -1.346457           0.464567   \n",
      "3    1883                 -0.232283          -1.129921           0.665354   \n",
      "4    1884                  0.590551          -0.283465           1.464567   \n",
      "..    ...                       ...                ...                ...   \n",
      "129  2009                  8.586614           8.311024           8.862205   \n",
      "130  2010                  8.901575           8.618110           9.185039   \n",
      "131  2011                  8.964567           8.661417           9.267717   \n",
      "132  2012                  9.326772           8.992126           9.661417   \n",
      "133  2013                  8.980315           8.622047           9.338583   \n",
      "\n",
      "     NOAA Adjusted Sea Level  \n",
      "0                        NaN  \n",
      "1                        NaN  \n",
      "2                        NaN  \n",
      "3                        NaN  \n",
      "4                        NaN  \n",
      "..                       ...  \n",
      "129                 8.046354  \n",
      "130                 8.122973  \n",
      "131                 8.053065  \n",
      "132                 8.457058  \n",
      "133                 8.546648  \n",
      "\n",
      "[134 rows x 5 columns]\n"
     ]
    }
   ],
   "source": [
    "print(df)"
   ]
  },
  {
   "cell_type": "code",
   "execution_count": 75,
   "metadata": {},
   "outputs": [
    {
     "data": {
      "image/png": "[encoded data removed]",
      "text/plain": [
       "<Figure size 432x288 with 1 Axes>"
      ]
     },
     "metadata": {
      "needs_background": "light"
     },
     "output_type": "display_data"
    }
   ],
   "source": [
    "# Use matplotlib to create a scatter plot using the \"Year\" column as the x-axis \n",
    "#and the \"CSIRO Adjusted Sea Level\" column as the y-axix.\n",
    "#scatter(x, y, s=None, c=None, marker=None, cmap=None, norm=None, vmin=None, vmax=None, alpha=None, linewidths=None, verts=None, edgecolors=None, *, plotnonfinite=False, data=None, **kwargs)[source]\n",
    "plt.scatter(x='Year', y='CSIRO Adjusted Sea Level', data=df)\n",
    "plt.plot()\n",
    "\n",
    "\n",
    "#trendline 1\n",
    "x = df['Year']\n",
    "y = df['CSIRO Adjusted Sea Level']\n",
    "slope, intercept, r_value, p_value, std_err = linregress(x,y)\n",
    "plt.plot(intercept + slope)\n",
    "\n",
    "xArr = [*range(1880, 2051, 1)]\n",
    "yArr = []\n",
    "def getY ():\n",
    "    for x in xArr:\n",
    "        y = slope * x + intercept\n",
    "        yArr.append(y)\n",
    "getY()      \n",
    "plt.plot(xArr, yArr)\n",
    "\n",
    "#trendline 2\n",
    "x2 = df['Year'][-14:] #years 2000 - 2013\n",
    "y2 = df['CSIRO Adjusted Sea Level'][-14:]\n",
    "slope2, intercept2, r_value2, p_value2, std_err2 = linregress(x2,y2)\n",
    "\n",
    "xArr2 = [*range(2000, 2050, 1)]\n",
    "yArr2 = []\n",
    "def getY2 ():\n",
    "    for x in xArr2:\n",
    "        y = slope2 * x + intercept2\n",
    "        yArr2.append(y)\n",
    "getY2()      \n",
    "plt.plot(xArr2, yArr2)\n",
    "\n",
    "#set range on chart\n",
    "axes = plt.gca() #gca -get common axes....\n",
    "axes.set_xlim([1850,2075])\n",
    "axes.set_ylim([-2,16])\n",
    "\n",
    "#labels\n",
    "plt.xlabel(\"Year\")\n",
    "plt.ylabel(\"Sea Level (inches)\")\n",
    "plt.title(\"Rise in Sea Level\")\n",
    "\n",
    "plt.show()"
   ]
  },
  {
   "cell_type": "code",
   "execution_count": 74,
   "metadata": {},
   "outputs": [
    {
     "data": {
      "text/plain": [
       "[<matplotlib.lines.Line2D at 0x120262160>]"
      ]
     },
     "execution_count": 74,
     "metadata": {},
     "output_type": "execute_result"
    },
    {
     "data": {
      "image/png": "[encoded data removed]",
      "text/plain": [
       "<Figure size 432x288 with 1 Axes>"
      ]
     },
     "metadata": {
      "needs_background": "light"
     },
     "output_type": "display_data"
    }
   ],
   "source": [
    "#Plot a new line of best fit just using the data from year 2000 through the most recent year in the dataset. \n",
    "#Make the line also go through the year 2050 to predict the sea level rise in 2050 if the rate of rise \n",
    "#continues as it has since the year 2000.\n",
    "x2 = df['Year'][-14:] #years 2000 - 2013\n",
    "y2 = df['CSIRO Adjusted Sea Level'][-14:]\n",
    "slope2, intercept2, r_value2, p_value2, std_err2 = linregress(x2,y2)\n",
    "\n",
    "xArr2 = [*range(2000, 2050, 1)]\n",
    "yArr2 = []\n",
    "def getY2 ():\n",
    "    for x in xArr2:\n",
    "        y = slope2 * x + intercept2\n",
    "        yArr2.append(y)\n",
    "getY2()      \n",
    "plt.plot(xArr2, yArr2)\n",
    "\n",
    "#print(slope2, intercept2)"
   ]
  },
  {
   "cell_type": "code",
   "execution_count": null,
   "metadata": {},
   "outputs": [],
   "source": []
  }
 ],
 "metadata": {
  "kernelspec": {
   "display_name": "Python 3",
   "language": "python",
   "name": "python3"
  },
  "language_info": {
   "codemirror_mode": {
    "name": "ipython",
    "version": 3
   },
   "file_extension": ".py",
   "mimetype": "text/x-python",
   "name": "python",
   "nbconvert_exporter": "python",
   "pygments_lexer": "ipython3",
   "version": "3.8.3"
  }
 },
 "nbformat": 4,
 "nbformat_minor": 4
}
